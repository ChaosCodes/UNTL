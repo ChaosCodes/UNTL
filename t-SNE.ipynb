{
 "cells": [
  {
   "cell_type": "code",
   "execution_count": null,
   "source": [
    "import os\n",
    "from tqdm import tqdm\n",
    "import seaborn as sns\n",
    "os.environ[\"CUDA_VISIBLE_DEVICES\"] = \"3\"\n",
    "import torch\n",
    "import numpy as np\n",
    "import matplotlib.pyplot as plt\n",
    "import pandas as pd\n",
    "from transformers import AutoModelForSequenceClassification, AutoTokenizer\n",
    "from transformers import DataCollatorWithPadding\n",
    "from sklearn.manifold import TSNE \n",
    "from nli_dataset import load_data\n"
   ],
   "outputs": [],
   "metadata": {}
  },
  {
   "cell_type": "code",
   "execution_count": null,
   "source": [
    "model_id = 'bert-base-uncased'\n",
    "device = torch.device(\"cuda\")\n",
    "\n",
    "\n",
    "model = AutoModelForSequenceClassification.from_pretrained(model_id, num_labels=3)\n",
    "\n",
    "tokenizer = AutoTokenizer.from_pretrained(model_id)\n",
    "\n",
    "train_datasets = load_data(tokenizer, 'validation_matched')\n",
    "data_collator = DataCollatorWithPadding(tokenizer=tokenizer)\n",
    " "
   ],
   "outputs": [],
   "metadata": {}
  },
  {
   "cell_type": "code",
   "execution_count": null,
   "source": [
    "model_keys = ['MMD', 'FULL', 'SUP', 'DC']\n",
    "model_files = ['outputs/with_mmd_2_0_seed_2222/epoch_1_240.pth', 'outputs/original_2_0_seed_2222/epoch_5_240.pth',\n",
    "'outputs/supervised_2_seed_2222/epoch_240.pth', 'outputs/with_dc_2_0_seed_2222/epoch_5_240.pth']"
   ],
   "outputs": [],
   "metadata": {}
  },
  {
   "cell_type": "code",
   "execution_count": null,
   "source": [
    "def evaluate(datasetloader, is_source):\n",
    "    X = []\n",
    "    Y = []\n",
    "    with torch.no_grad():\n",
    "        num = 0\n",
    "        for samples in tqdm(datasetloader):\n",
    "            input_ids, attention_mask, labels = \\\n",
    "                samples['input_ids'].to(device), samples['attention_mask'].to(device), samples['labels'].to(device)\n",
    "\n",
    "            hidden_1 = model.bert(\n",
    "                input_ids=input_ids,\n",
    "                attention_mask=attention_mask\n",
    "            )\n",
    "\n",
    "            hidden_state_1 = hidden_1[1]  # (bs, dim)\n",
    "            \n",
    "            if is_source:\n",
    "                env_label = ['0' for _ in range(hidden_state_1.size(0))]\n",
    "            else:\n",
    "                env_label = ['1' for _ in range(hidden_state_1.size(0))]\n",
    "        \n",
    "            X.append(hidden_state_1)\n",
    "            Y.extend(env_label)\n",
    "    return X, Y"
   ],
   "outputs": [],
   "metadata": {}
  },
  {
   "cell_type": "code",
   "execution_count": null,
   "source": [
    "# checkpoint = torch.load('outputs/with_dc_2_0_seed_2222/epoch_5_240.pth', map_location='cpu')\n",
    "\n",
    "res = []\n",
    "feat_cols = None\n",
    "for cp in model_files:\n",
    "    checkpoint = torch.load(cp, map_location='cpu')\n",
    "    model.load_state_dict(checkpoint['model_state_dict'])\n",
    "    \n",
    "    model.eval()\n",
    "    model.cuda()\n",
    "    \n",
    "    source_id = 2\n",
    "    target_id = 0\n",
    "\n",
    "    X, Y = [], []\n",
    "    for i in [source_id, target_id]:\n",
    "        datasetloader = torch.utils.data.DataLoader(train_datasets[i], batch_size=500, collate_fn=data_collator)\n",
    "        temp_X, temp_Y = evaluate(datasetloader, True if i == 0 else False)\n",
    "\n",
    "        X.extend(temp_X)\n",
    "        Y.extend(temp_Y)\n",
    "\n",
    "    X = torch.cat(X, axis=0)\n",
    "    if not feat_cols:\n",
    "        feat_cols = [ 'pixel'+str(i) for i in range(X.shape[1]) ]\n",
    "    df = pd.DataFrame(X.cpu(),columns=feat_cols)\n",
    "    df['y'] = Y\n",
    "    df['label'] = df['y'].apply(lambda i: str(i))\n",
    "    res.append(df)\n",
    "    \n"
   ],
   "outputs": [],
   "metadata": {}
  },
  {
   "cell_type": "code",
   "execution_count": null,
   "source": [
    "np.random.seed(20)\n",
    "\n",
    "for idx, df in enumerate(res):\n",
    "    print(f'{model_keys[idx]}: ')\n",
    "    rndperm = np.random.permutation(df.shape[0])\n",
    "\n",
    "    N = 10000\n",
    "    df_subset = df.loc[rndperm[:N],:].copy()\n",
    "    data_subset = df_subset[feat_cols].values\n",
    "    tsne = TSNE(n_components=2, verbose=1, perplexity=100, n_iter=300, random_state=20)\n",
    "    tsne_results = tsne.fit_transform(data_subset)\n",
    "    df_subset['X'] = tsne_results[:,0]\n",
    "    df_subset['Y'] = tsne_results[:,1]\n",
    "    plt.figure(figsize=(6,6))\n",
    "    sns.scatterplot(\n",
    "        x=\"X\", y=\"Y\",\n",
    "        hue=\"y\",\n",
    "        palette=sns.color_palette('cubehelix', 2),\n",
    "        data=df_subset,\n",
    "        legend=\"full\",\n",
    "        alpha=0.5\n",
    "    )\n"
   ],
   "outputs": [],
   "metadata": {}
  },
  {
   "cell_type": "code",
   "execution_count": null,
   "source": [
    "\n"
   ],
   "outputs": [],
   "metadata": {}
  },
  {
   "cell_type": "code",
   "execution_count": null,
   "source": [],
   "outputs": [],
   "metadata": {}
  },
  {
   "cell_type": "code",
   "execution_count": null,
   "source": [],
   "outputs": [],
   "metadata": {}
  }
 ],
 "metadata": {
  "kernelspec": {
   "display_name": "Python 3",
   "language": "python",
   "name": "python3"
  },
  "language_info": {
   "codemirror_mode": {
    "name": "ipython",
    "version": 3
   },
   "file_extension": ".py",
   "mimetype": "text/x-python",
   "name": "python",
   "nbconvert_exporter": "python",
   "pygments_lexer": "ipython3",
   "version": "3.7.6"
  }
 },
 "nbformat": 4,
 "nbformat_minor": 4
}